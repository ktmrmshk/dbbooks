{
 "cells": [
  {
   "cell_type": "markdown",
   "metadata": {
    "application/vnd.databricks.v1+cell": {
     "inputWidgets": {},
     "nuid": "23dca9e3-8e66-489f-8e43-12b43a82e600",
     "showTitle": false,
     "title": ""
    }
   },
   "source": [
    "# 将来のカスタマーエンゲージメントの確率を算出する\n",
    "\n",
    "サブスクリプション型ではない小売モデルでは、顧客は長期的なコミットメントなしに出入りするため、ある顧客が将来的に戻ってくるかどうかを判断することは非常に困難です。効果的なマーケティングキャンペーンを実施するためには、顧客が再来店する可能性を判断することが重要です。\n",
    "\n",
    "一度退会した可能性の高いお客様に再び来店していただくためには、異なるメッセージングやプロモーションが必要になる場合があります。また、一度ご来店いただいたお客様には、当社でのご購入の幅や規模を拡大していただくためのマーケティング活動に、より積極的に取り組んでいただける可能性があります。お客様が将来的に関与する可能性についてどのような位置にいるかを理解することは、お客様に合わせたマーケティング活動を行う上で非常に重要です。\n",
    "\n",
    "Peter Faderらが提唱したBTYD（Buy 'til You Die）モデルは、2つの基本的な顧客指標、すなわち、顧客が最後に購入した時の記憶と、顧客の生涯におけるリピート取引の頻度を利用して、将来の再購入の確率を導き出すものです。これは、顧客の履歴を、購入頻度の分布と、前回の購入後のエンゲージメントの低下を表す曲線に当てはめることで行われます。\n",
    "\n",
    "これらのモデルの背後にある数学はかなり複雑ですが、ありがたいことに[lifetimes](https://pypi.org/project/Lifetimes/)ライブラリにまとめられているため、従来の企業でも採用しやすくなっています。このノートの目的は、これらのモデルを顧客の取引履歴にどのように適用するか、またマーケティングプロセスにどのように統合するかを検討することです。"
   ]
  },
  {
   "cell_type": "markdown",
   "metadata": {
    "application/vnd.databricks.v1+cell": {
     "inputWidgets": {},
     "nuid": "5496f58c-08b1-4b0f-a37b-d921ebb3f2ae",
     "showTitle": false,
     "title": ""
    }
   },
   "source": [
    "### Step 1: 環境構築\n",
    "\n",
    "このノートブックを実行するには、Databricks ML Runtime v6.5+以降クラスタに接続する必要があります。このバージョンのDatabricks Runtimeは、多くのライブラリがプリインストールされていますが、このNotebookでは追加で以下のPythonライブラリを使用しているので、別途インストールする必要がります。\n",
    "\n",
    "* xlrd\n",
    "* lifetimes==0.10.1\n",
    "* nbconvert\n",
    "\n",
    "インストールの方法は[こちら](https://docs.microsoft.com/ja-jp/azure/databricks/libraries/)を参照ください。PyPIライブラリのソースおよび上記のライブラリを両方使用します。\n",
    "\n",
    "インストールが完了したら、このノートブックをそのクラスタにアタッチしてください。\n",
    "\n",
    "(訳者注: このNotebookではすでにデータ形式が利用しやすいCSV形式になっているので、xlrd, nbconvertはインストール不要になっています。)"
   ]
  },
  {
   "cell_type": "code",
   "execution_count": 0,
   "metadata": {
    "application/vnd.databricks.v1+cell": {
     "inputWidgets": {},
     "nuid": "623453e9-9415-4deb-ba98-e1f6d543d496",
     "showTitle": true,
     "title": "lifetimesライブラリのインストール"
    }
   },
   "outputs": [],
   "source": [
    "%pip install lifetimes==0.10.1"
   ]
  },
  {
   "cell_type": "markdown",
   "metadata": {
    "application/vnd.databricks.v1+cell": {
     "inputWidgets": {},
     "nuid": "6a4198f8-ea96-47ac-bb12-2980490febbe",
     "showTitle": false,
     "title": ""
    }
   },
   "source": [
    "ライブラリをインストールしたら、BTYDモデルを検証するためのサンプルデータセットをロードしてみましょう。ここで使用するデータセットは、UCI Machine Learning Repositoryから入手可能な[Online Retailデータセット](http://archive.ics.uci.edu/ml/datasets/Online+Retail)です。\n",
    "\n",
    "このデータセットは、Microsoft Excelワークブック（XLSX）として提供されています。このXLSXファイルをローカルシステムにダウンロードした後、[ここ](https://docs.databricks.com/data/tables.html#create-table-ui)で紹介する手順に従ってDatabricks環境にロードします。\n",
    "\n",
    "なお、ファイルのインポートを実行する際、インポート処理を完了するために「UIでテーブルを作成」または「ノートブックでテーブルを作成」オプションを選択する必要はありません。また、XLSXファイルの名前にはサポートされていないスペース文字が含まれているため、インポート時にファイル名が変更されます。そのため、インポート処理で割り当てられたファイルの新しい名前をプログラムで見つける必要があります。\n",
    "\n",
    "以下では、XLSXのアップロード先として`/FileStore/tables/online_retail/`を使用することにします。\n",
    "\n",
    "(注: `/FileStore/tables/online_retail/`配下にあるデータはすでにXLSX形式からCSV形式に変換されているので、上記のxrldライブラリは不要になっている)"
   ]
  },
  {
   "cell_type": "code",
   "execution_count": 0,
   "metadata": {
    "application/vnd.databricks.v1+cell": {
     "inputWidgets": {},
     "nuid": "b8b3211a-991e-4fba-9f7d-e9e43c44d362",
     "showTitle": false,
     "title": ""
    }
   },
   "outputs": [],
   "source": [
    "%sh\n",
    "wget 'https://sajpstorage.blob.core.windows.net/demo-asset-workshop2021/Online_Retail-93ac4.csv'\n",
    "cp Online_Retail-93ac4.csv /dbfs/FileStore/tables/online_retail/"
   ]
  },
  {
   "cell_type": "code",
   "execution_count": 0,
   "metadata": {
    "application/vnd.databricks.v1+cell": {
     "inputWidgets": {},
     "nuid": "a0539a75-fd4d-448d-ba41-5bc10f6e8d23",
     "showTitle": false,
     "title": ""
    }
   },
   "outputs": [],
   "source": [
    "dbutils.fs.ls('file:///dbfs/FileStore/tables/online_retail')"
   ]
  },
  {
   "cell_type": "code",
   "execution_count": 0,
   "metadata": {
    "application/vnd.databricks.v1+cell": {
     "inputWidgets": {},
     "nuid": "d48348d6-8c81-4007-a8a0-47865721dc0d",
     "showTitle": false,
     "title": ""
    }
   },
   "outputs": [],
   "source": [
    "%fs ls /FileStore/tables/online_retail"
   ]
  },
  {
   "cell_type": "code",
   "execution_count": 0,
   "metadata": {
    "application/vnd.databricks.v1+cell": {
     "inputWidgets": {},
     "nuid": "9c75df65-ee3e-42a2-9188-c3916eac4e65",
     "showTitle": true,
     "title": "サンプルデータを読み込む"
    }
   },
   "outputs": [],
   "source": [
    "import pandas as pd\n",
    "import numpy as np\n",
    "\n",
    "# 対象のxlsxファイルのパスを取得\n",
    "xlsx_filename = dbutils.fs.ls('file:///dbfs/FileStore/tables/online_retail')[0][0]\n",
    "\n",
    "# 上記ファイルのデータのスキーマを設定(既知とする)\n",
    "orders_schema = {\n",
    "  'InvoiceNo':np.str,\n",
    "  'StockCode':np.str,\n",
    "  'Description':np.str,\n",
    "  'Quantity':np.int64,\n",
    "#  'InvoiceDate':np.datetime64,\n",
    "  'InvoiceDate':np.str,\n",
    "  'UnitPrice':np.float64,\n",
    "  'CustomerID':np.str,\n",
    "  'Country':np.str  \n",
    "  }\n",
    "\n",
    "# xlsxファイルをPandasのDataFrameとして読み込む\n",
    "# (このため、ライブラリ \"xlrd\" が必要) \n",
    "# orders_pd = pd.read_excel(\n",
    "#   xlsx_filename, \n",
    "#   sheet_name='Online Retail',\n",
    "#   header=0, # 第一行目はヘッダーになっている\n",
    "#   dtype=orders_schema\n",
    "#   )\n",
    "\n",
    "#　元のファイルがCSVになっているので、そのまま読み込む\n",
    "orders_pd = pd.read_csv(\n",
    "  xlsx_filename, \n",
    "  sep=',',\n",
    "  #sheet_name='Online Retail',\n",
    "  header=0, # 第一行目はヘッダーになっている\n",
    "  dtype=orders_schema,\n",
    "  parse_dates=['InvoiceDate']\n",
    "  )\n",
    "\n",
    "# 読み込んだDataFrameを確認してみる\n",
    "orders_pd.head(10)"
   ]
  },
  {
   "cell_type": "markdown",
   "metadata": {
    "application/vnd.databricks.v1+cell": {
     "inputWidgets": {},
     "nuid": "89b91f2b-552a-4323-a782-6aed3ec20187",
     "showTitle": false,
     "title": ""
    }
   },
   "source": [
    "ワークブックのデータは、「Online Retail」スプレッドシートの範囲として整理されています。 各レコードは、販売取引のラインアイテムを表しています。それぞれのフィールドは以下の通りです。\n",
    "\n",
    "| Field | Description |\n",
    "|-------------:|-----:|\n",
    "|InvoiceNo|各トランザクションに一意に割り当てられた6桁の整数|\n",
    "|StockCode|それぞれの製品に一意に割り当てられた5桁の整数|\n",
    "|Description|プロダクト名(アイテム名)|\n",
    "|Quantity|トランザクションあたりの数量|\n",
    "|InvoiceDate|Invoiceの日時(`mm/dd/yy hh:mm`フォーマット)|\n",
    "|UnitPrice|製品単価 (£, ポンド)|\n",
    "|CustomerID| 顧客に一意に割り当てられた5桁の整数|\n",
    "|Country|顧客の居住国|\n",
    "\n",
    "これらのフィールドのうち、今回の作業で特に注目すべきものは、取引を識別するInvoiceNo、取引の日付を識別するInvoiceDate、複数の取引で顧客を一意に識別するCustomerIDです。(別のノートブックでは、UnitPriceフィールドとQuantityフィールドを使って、トランザクションの金銭的価値を調べます)。"
   ]
  },
  {
   "cell_type": "markdown",
   "metadata": {
    "application/vnd.databricks.v1+cell": {
     "inputWidgets": {},
     "nuid": "f3259d41-9954-4298-932d-e1c06d921503",
     "showTitle": false,
     "title": ""
    }
   },
   "source": [
    "### Step 2: データセットの探索\n",
    "\n",
    "SQLを使ってデータを探索してみましょう。そのために、まずPandas DataFrameをSpark DataFrameに変換し、Temporary Viewを作成します。"
   ]
  },
  {
   "cell_type": "code",
   "execution_count": 0,
   "metadata": {
    "application/vnd.databricks.v1+cell": {
     "inputWidgets": {},
     "nuid": "702c0b13-fb73-417f-a4c0-f686d77ccb95",
     "showTitle": false,
     "title": ""
    }
   },
   "outputs": [],
   "source": [
    "# Pandas-DF から　Spark-DF　へ変換\n",
    "orders = spark.createDataFrame(orders_pd)\n",
    "\n",
    "# Temp Viewの作成\n",
    "orders.createOrReplaceTempView('orders')"
   ]
  },
  {
   "cell_type": "markdown",
   "metadata": {
    "application/vnd.databricks.v1+cell": {
     "inputWidgets": {},
     "nuid": "5b653de5-b2c7-436c-8965-3056ec93d161",
     "showTitle": false,
     "title": ""
    }
   },
   "source": [
    "データセットの取引状況を見てみると、\n",
    "\n",
    "* 最初の取引が2010年12月1日\n",
    "* 最後の取引が2011年12月9日\n",
    "* データセットの期間は1年を少し超えている\n",
    "\n",
    "ことがわかります。\n",
    "\n",
    "また、1日のトランザクション数を見ると、このオンライン小売業者の1日のアクティビティにはかなりのボラティリティがあることがわかります。"
   ]
  },
  {
   "cell_type": "code",
   "execution_count": 0,
   "metadata": {
    "application/vnd.databricks.v1+cell": {
     "inputWidgets": {},
     "nuid": "59e0a101-f8cb-439e-8bcf-6b507ddf5bd9",
     "showTitle": true,
     "title": "1日のトランザクション数"
    }
   },
   "outputs": [],
   "source": [
    "%sql -- 1日ごとのユニークなトランザクション数\n",
    "\n",
    "SELECT \n",
    "  TO_DATE(InvoiceDate) as InvoiceDate,\n",
    "  COUNT(DISTINCT InvoiceNo) as Transactions\n",
    "FROM orders\n",
    "GROUP BY TO_DATE(InvoiceDate)\n",
    "ORDER BY InvoiceDate;"
   ]
  },
  {
   "cell_type": "markdown",
   "metadata": {
    "application/vnd.databricks.v1+cell": {
     "inputWidgets": {},
     "nuid": "56ee83e6-1adb-41b8-b2f5-6853bd4aa13e",
     "showTitle": false,
     "title": ""
    }
   },
   "source": [
    "月別の活動を要約することで、この現象を少し滑らかにすることができます。2011年12月は9日間しかなかったので、先月の売上減少のグラフはほとんど無視してよいでしょう。\n",
    "\n",
    "注：以下の結果セットの背後にあるSQLは、見やすいように隠しておきます。このコードを表示するには、以下の各グラフの上にある **\"Show code\"** をクリック"
   ]
  },
  {
   "cell_type": "code",
   "execution_count": 0,
   "metadata": {
    "application/vnd.databricks.v1+cell": {
     "inputWidgets": {},
     "nuid": "751c0187-f021-47fc-ad85-b4733b55a445",
     "showTitle": true,
     "title": "月次のトランザクション数"
    }
   },
   "outputs": [],
   "source": [
    "%sql -- 月ごとのユニークなトランザクション数\n",
    "\n",
    "SELECT \n",
    "  TRUNC(InvoiceDate, 'month') as InvoiceMonth,\n",
    "  COUNT(DISTINCT InvoiceNo) as Transactions\n",
    "FROM orders\n",
    "GROUP BY TRUNC(InvoiceDate, 'month') \n",
    "ORDER BY InvoiceMonth;"
   ]
  },
  {
   "cell_type": "markdown",
   "metadata": {
    "application/vnd.databricks.v1+cell": {
     "inputWidgets": {},
     "nuid": "50928cef-d4ab-436b-bae9-42decd1d52be",
     "showTitle": false,
     "title": ""
    }
   },
   "source": [
    "データのある1年強の期間では、4,000人以上のユニークなお客様がいます。\n",
    "これらのお客様が生み出したユニークな取引は約2万2千件です。"
   ]
  },
  {
   "cell_type": "code",
   "execution_count": 0,
   "metadata": {
    "application/vnd.databricks.v1+cell": {
     "inputWidgets": {},
     "nuid": "ce9e66f6-efea-4627-a7a0-dc67ca88220b",
     "showTitle": true,
     "title": "顧客数と取引回数の総計"
    }
   },
   "outputs": [],
   "source": [
    "%sql -- unique customers and transactions\n",
    "\n",
    "SELECT\n",
    " COUNT(DISTINCT CustomerID) as Customers,\n",
    " COUNT(DISTINCT InvoiceNo) as Transactions\n",
    "FROM orders\n",
    "WHERE CustomerID IS NOT NULL;"
   ]
  },
  {
   "cell_type": "markdown",
   "metadata": {
    "application/vnd.databricks.v1+cell": {
     "inputWidgets": {},
     "nuid": "c9a7e2ae-b781-4e23-9ade-535dc6b5996c",
     "showTitle": false,
     "title": ""
    }
   },
   "source": [
    "簡単な割り算で、顧客一人当たり、平均して約5件の取引を担当していることがわかります。しかし、これでは顧客の活動を正確に表すことはできません。\n",
    "\n",
    "単純平均ではなく、顧客ごとにユニークな取引をカウントし、その値の頻度を調べてみると、多くのお客様が1回の取引を行っていることがわかります。リピート購入回数の分布は、リピート購入回数の分布は、そこから負の二項分布（ほとんどのBTYDモデルの名前に含まれるNBDの頭文字の根拠となっています）と言えるような形で減少していきます。"
   ]
  },
  {
   "cell_type": "code",
   "execution_count": 0,
   "metadata": {
    "application/vnd.databricks.v1+cell": {
     "inputWidgets": {},
     "nuid": "48d9687f-8ee4-4539-a74a-7d2e2f08afc1",
     "showTitle": true,
     "title": "各顧客の取引回数のヒストグラム(分布)"
    }
   },
   "outputs": [],
   "source": [
    "%sql -- the distribution of per-customer transaction counts \n",
    "\n",
    "SELECT\n",
    "  x.Transactions,\n",
    "  COUNT(x.*) as Occurrences\n",
    "FROM (\n",
    "  SELECT\n",
    "    CustomerID,\n",
    "    COUNT(DISTINCT InvoiceNo) as Transactions \n",
    "  FROM orders\n",
    "  WHERE CustomerID IS NOT NULL\n",
    "  GROUP BY CustomerID\n",
    "  ) x\n",
    "GROUP BY \n",
    "  x.Transactions\n",
    "ORDER BY\n",
    "  x.Transactions;"
   ]
  },
  {
   "cell_type": "markdown",
   "metadata": {
    "application/vnd.databricks.v1+cell": {
     "inputWidgets": {},
     "nuid": "be886941-8d5d-46f3-92ab-ee8e7d1e8f9b",
     "showTitle": false,
     "title": ""
    }
   },
   "source": [
    "先の分析で、同じ日に発生した顧客の取引を1つの取引にまとめるように変更した場合（このパターンは後に計算する指標と一致します）、より多くの顧客が非リピート顧客として識別されますが、全体的なパターンは変わりません。"
   ]
  },
  {
   "cell_type": "code",
   "execution_count": 0,
   "metadata": {
    "application/vnd.databricks.v1+cell": {
     "inputWidgets": {},
     "nuid": "ba6d4900-5f8f-487c-8ae6-3272ac95f57d",
     "showTitle": false,
     "title": ""
    }
   },
   "outputs": [],
   "source": [
    "%sql -- the distribution of per-customer transaction counts\n",
    "     -- with consideration of same-day transactions as a single transaction \n",
    "\n",
    "SELECT\n",
    "  x.Transactions,\n",
    "  COUNT(x.*) as Occurances\n",
    "FROM (\n",
    "  SELECT\n",
    "    CustomerID,\n",
    "    COUNT(DISTINCT TO_DATE(InvoiceDate)) as Transactions\n",
    "  FROM orders\n",
    "  WHERE CustomerID IS NOT NULL\n",
    "  GROUP BY CustomerID\n",
    "  ) x\n",
    "GROUP BY \n",
    "  x.Transactions\n",
    "ORDER BY\n",
    "  x.Transactions;"
   ]
  },
  {
   "cell_type": "markdown",
   "metadata": {
    "application/vnd.databricks.v1+cell": {
     "inputWidgets": {},
     "nuid": "2c69d643-8cc2-4696-ad44-04620384588a",
     "showTitle": false,
     "title": ""
    }
   },
   "source": [
    "リピート購入のお客様に焦点を当てて、購入イベント間の日数の分布を調べることができます。ここで重要なのは、ほとんどのお客様が購入後2～3ヶ月以内にサイトに戻ってきていることです。それ以上の期間が空くこともありますが、再購入までの期間が長いお客様はかなり少ないです。\n",
    "\n",
    "このことは、BYTDモデルの文脈で理解することが重要です。つまり、最後にお客様にお会いしてからの時間は、お客様が再来店されるかどうかを判断するための重要な要素であり、お客様が最後に購入されてからの時間が長くなればなるほど、再来店の確率は下がっていきます。"
   ]
  },
  {
   "cell_type": "code",
   "execution_count": 0,
   "metadata": {
    "application/vnd.databricks.v1+cell": {
     "inputWidgets": {},
     "nuid": "81ef89c3-30f5-406d-a9ee-8c4c958f2541",
     "showTitle": true,
     "title": "リピート時の取引の間隔(日数)"
    }
   },
   "outputs": [],
   "source": [
    "%sql -- distribution of per-customer average number of days between purchase events\n",
    "\n",
    "WITH CustomerPurchaseDates\n",
    "  AS (\n",
    "    SELECT DISTINCT\n",
    "      CustomerID,\n",
    "      TO_DATE(InvoiceDate) as InvoiceDate\n",
    "    FROM orders \n",
    "    WHERE CustomerId IS NOT NULL\n",
    "    )\n",
    "SELECT -- Per-Customer Average Days Between Purchase Events\n",
    "  CustomerID,\n",
    "  AVG(\n",
    "    DATEDIFF(a.NextInvoiceDate, a.InvoiceDate)\n",
    "    ) as AvgDaysBetween\n",
    "FROM ( -- Purchase Event and Next Purchase Event by Customer\n",
    "  SELECT \n",
    "    x.CustomerID,\n",
    "    x.InvoiceDate,\n",
    "    MIN(y.InvoiceDate) as NextInvoiceDate\n",
    "  FROM CustomerPurchaseDates x\n",
    "  INNER JOIN CustomerPurchaseDates y\n",
    "    ON x.CustomerID=y.CustomerID AND x.InvoiceDate < y.InvoiceDate\n",
    "  GROUP BY \n",
    "    x.CustomerID,\n",
    "    x.InvoiceDate\n",
    "    ) a\n",
    "GROUP BY CustomerID"
   ]
  },
  {
   "cell_type": "markdown",
   "metadata": {
    "application/vnd.databricks.v1+cell": {
     "inputWidgets": {},
     "nuid": "9e50f459-08f8-4af3-9b1f-315a6aa8ee7e",
     "showTitle": false,
     "title": ""
    }
   },
   "source": [
    "### Step 3: 顧客のメトリックを計算する\n",
    "\n",
    "私たちが扱うデータセットは、生の取引履歴で構成されています。BTYDモデルを適用するためには、いくつかの顧客ごとの評価指標を導き出す必要があります。</p>\n",
    "\n",
    "* **Frequency** - 観測期間中の取引(買い物)回数。ただし、初回購入は除く。つまり、(全取引回数 - 1)。日毎にカウント。つまり、同日に複数回取引があっても1回とカウントする。\n",
    "* **Age (T)** - 経過日数, 初めての取引発生した日から現在の日付（またはデータセットの最終の日)\n",
    "* **Recency** - 直近の取引があった時点のAge。つまり、初回の取引の日から直近(最後の)取引があった日までの経過日数。\n",
    "\n",
    "<img src=\"https://sajpstorage.blob.core.windows.net/demo-asset-workshop2021/image/CLV_fig1.png\" width=500>\n",
    "\n",
    "顧客年齢などの指標を計算する際には、データセットがいつ終了するかを考慮する必要があることに注意してください。今日の日付を基準にしてこれらのメトリクスを計算すると、誤った結果になる可能性があります。そこで、データセットの最後の日付を特定し、それを *今日の日付* と定義して、すべての計算を行うことにします。\n",
    "\n",
    "ここでは、lifetimesライブラリに組み込まれた機能を使って、どのように計算を行うかをみていきます。"
   ]
  },
  {
   "cell_type": "code",
   "execution_count": 0,
   "metadata": {
    "application/vnd.databricks.v1+cell": {
     "inputWidgets": {},
     "nuid": "05440733-9e99-4747-85e6-09e6bc581dce",
     "showTitle": false,
     "title": ""
    }
   },
   "outputs": [],
   "source": [
    "import lifetimes\n",
    "\n",
    "# set the last transaction date as the end point for this historical dataset\n",
    "current_date = orders_pd['InvoiceDate'].max()\n",
    "\n",
    "# calculate the required customer metrics\n",
    "metrics_pd = (\n",
    "  lifetimes.utils.summary_data_from_transaction_data(\n",
    "    orders_pd,\n",
    "    customer_id_col='CustomerID',\n",
    "    datetime_col='InvoiceDate',\n",
    "    observation_period_end = current_date, \n",
    "    freq='D'\n",
    "    )\n",
    "  )\n",
    "\n",
    "# display first few rows\n",
    "metrics_pd.head(10)"
   ]
  },
  {
   "cell_type": "code",
   "execution_count": 0,
   "metadata": {
    "application/vnd.databricks.v1+cell": {
     "inputWidgets": {},
     "nuid": "e66c7de7-757c-439b-a85e-8da39217f321",
     "showTitle": true,
     "title": "CustomerID = 12347の購入パターンで確認"
    }
   },
   "outputs": [],
   "source": [
    "%sql\n",
    "SELECT  TO_DATE(InvoiceDate) FROM orders WHERE CustomerID = 12348\n",
    "GROUP BY TO_DATE(InvoiceDate)\n",
    "ORDER BY TO_DATE(InvoiceDate)"
   ]
  },
  {
   "cell_type": "markdown",
   "metadata": {
    "application/vnd.databricks.v1+cell": {
     "inputWidgets": {},
     "nuid": "1f06d008-9335-415b-8b0e-5762b0177281",
     "showTitle": false,
     "title": ""
    }
   },
   "source": [
    "lifetimesライブラリは、多くのPythonライブラリと同様に、シングルスレッドです。このライブラリを使用して大規模なトランザクションデータセットの顧客メトリクスを導出すると、システムを圧迫したり、単に完了までに時間がかかりすぎたりする可能性があります。そこで、Apache Sparkの分散機能を利用してこれらの指標を算出する方法を検討してみましょう。\n",
    "\n",
    "\n",
    "複雑なデータ操作にはSQLが使われることが多いので、まずはSparkのSQL文を使ってみます。\n",
    "\n",
    "このステートメントでは、まず各顧客の注文履歴を、\n",
    "1. 顧客ID\n",
    "1. 最初の購入日（first_at）\n",
    "1. 購入が確認された日（transaction_at）\n",
    "1. 現在の日付（この値にはデータセットの最後の日付を使用）\n",
    "\n",
    "で構成します。\n",
    "\n",
    "この履歴から、顧客ごとに、\n",
    "1. 繰り返し取引された日の数（frequency）\n",
    "1. 最後の取引日から最初の取引日までの日数（recency）\n",
    "1. 現在の日付から最初の取引までの日数（T）\n",
    "\n",
    "をカウントすることができます。"
   ]
  },
  {
   "cell_type": "code",
   "execution_count": 0,
   "metadata": {
    "application/vnd.databricks.v1+cell": {
     "inputWidgets": {},
     "nuid": "5d1d335f-60aa-4dc3-8253-16bce9da70e2",
     "showTitle": false,
     "title": ""
    }
   },
   "outputs": [],
   "source": [
    "# sql statement to derive summary customer stats\n",
    "sql = '''\n",
    "  SELECT\n",
    "    a.customerid as CustomerID,\n",
    "    CAST(COUNT(DISTINCT a.transaction_at) - 1 as float) as frequency,\n",
    "    CAST(DATEDIFF(MAX(a.transaction_at), a.first_at) as float) as recency,\n",
    "    CAST(DATEDIFF(a.current_dt, a.first_at) as float) as T\n",
    "  FROM ( -- customer order history\n",
    "    SELECT DISTINCT\n",
    "      x.customerid,\n",
    "      z.first_at,\n",
    "      TO_DATE(x.invoicedate) as transaction_at,\n",
    "      y.current_dt\n",
    "    FROM orders x\n",
    "    CROSS JOIN (SELECT MAX(TO_DATE(invoicedate)) as current_dt FROM orders) y                                -- current date (according to dataset)\n",
    "    INNER JOIN (SELECT customerid, MIN(TO_DATE(invoicedate)) as first_at FROM orders GROUP BY customerid) z  -- first order per customer\n",
    "      ON x.customerid=z.customerid\n",
    "    WHERE x.customerid IS NOT NULL\n",
    "    ) a\n",
    "  GROUP BY a.customerid, a.current_dt, a.first_at\n",
    "  ORDER BY CustomerID\n",
    "  '''\n",
    "\n",
    "# capture stats in dataframe \n",
    "metrics_sql = spark.sql(sql)\n",
    "\n",
    "# display stats\n",
    "display(metrics_sql)  "
   ]
  },
  {
   "cell_type": "markdown",
   "metadata": {
    "application/vnd.databricks.v1+cell": {
     "inputWidgets": {},
     "nuid": "2b346f81-1ab3-42fc-bbeb-b6408c6a7b2c",
     "showTitle": false,
     "title": ""
    }
   },
   "source": [
    "もちろん，Spark SQLでは，DataFrameをSQL文のみでアクセスする必要はありません。\n",
    "\n",
    "データサイエンティストの好みに合わせて、プログラマティックSQL APIを使って同じ結果を導き出すこともできます。次のセルのコードは、比較のために、前のSQL文の構造を反映するように意図的に組み立てられています。"
   ]
  },
  {
   "cell_type": "code",
   "execution_count": 0,
   "metadata": {
    "application/vnd.databricks.v1+cell": {
     "inputWidgets": {},
     "nuid": "0fe38f3d-8d0d-4368-a8d4-6543d0c88028",
     "showTitle": false,
     "title": ""
    }
   },
   "outputs": [],
   "source": [
    "from pyspark.sql.functions import to_date, datediff, max, min, countDistinct, count, sum, when\n",
    "from pyspark.sql.types import *\n",
    "\n",
    "# valid customer orders\n",
    "x = orders.where(orders.CustomerID.isNotNull())\n",
    "\n",
    "# calculate last date in dataset\n",
    "y = (\n",
    "  orders\n",
    "    .groupBy()\n",
    "    .agg(max(to_date(orders.InvoiceDate)).alias('current_dt'))\n",
    "  )\n",
    "\n",
    "# calculate first transaction date by customer\n",
    "z = (\n",
    "  orders\n",
    "    .groupBy(orders.CustomerID)\n",
    "    .agg(min(to_date(orders.InvoiceDate)).alias('first_at'))\n",
    "  )\n",
    "\n",
    "# combine customer history with date info \n",
    "a = (x\n",
    "    .crossJoin(y)\n",
    "    .join(z, x.CustomerID==z.CustomerID, how='inner')\n",
    "    .select(\n",
    "      x.CustomerID.alias('customerid'), \n",
    "      z.first_at, \n",
    "      to_date(x.InvoiceDate).alias('transaction_at'), \n",
    "      y.current_dt\n",
    "      )\n",
    "     .distinct()\n",
    "    )\n",
    "\n",
    "# calculate relevant metrics by customer\n",
    "metrics_api = (a\n",
    "           .groupBy(a.customerid, a.current_dt, a.first_at)\n",
    "           .agg(\n",
    "             (countDistinct(a.transaction_at)-1).cast(FloatType()).alias('frequency'),\n",
    "             datediff(max(a.transaction_at), a.first_at).cast(FloatType()).alias('recency'),\n",
    "             datediff(a.current_dt, a.first_at).cast(FloatType()).alias('T')\n",
    "             )\n",
    "           .select('customerid','frequency','recency','T')\n",
    "           .orderBy('customerid')\n",
    "          )\n",
    "\n",
    "display(metrics_api)"
   ]
  },
  {
   "cell_type": "markdown",
   "metadata": {
    "application/vnd.databricks.v1+cell": {
     "inputWidgets": {},
     "nuid": "9dbab10d-c0d2-421f-9ca9-13e0ad54661c",
     "showTitle": false,
     "title": ""
    }
   },
   "source": [
    "結果が同じであることを確認するために、これらの異なるメトリクス・データセットのデータを比較してみましょう。レコードごとに行うのではなく、各データセットの要約統計を計算して、その一貫性を確認してみましょう。\n",
    "\n",
    "\n",
    "注：平均値と標準偏差は、小数点以下10万分の1と100万分の1でわずかに異なることに気づくかもしれません。これは、pandasとSparkのデータフレームのデータ型の違いによるものですが、結果には大きな影響はありません。"
   ]
  },
  {
   "cell_type": "code",
   "execution_count": 0,
   "metadata": {
    "application/vnd.databricks.v1+cell": {
     "inputWidgets": {},
     "nuid": "178c37d3-aa2d-411b-b778-938c29e47fc4",
     "showTitle": true,
     "title": "lifetimesライブラリを使って算出"
    }
   },
   "outputs": [],
   "source": [
    "# summary data from lifetimes\n",
    "metrics_pd.describe()"
   ]
  },
  {
   "cell_type": "code",
   "execution_count": 0,
   "metadata": {
    "application/vnd.databricks.v1+cell": {
     "inputWidgets": {},
     "nuid": "3639b3a7-6e6d-43a3-973d-097c4ee3574e",
     "showTitle": true,
     "title": "SQL(Spark SQL)を使って算出"
    }
   },
   "outputs": [],
   "source": [
    "# summary data from SQL statement\n",
    "metrics_sql.toPandas().describe()"
   ]
  },
  {
   "cell_type": "code",
   "execution_count": 0,
   "metadata": {
    "application/vnd.databricks.v1+cell": {
     "inputWidgets": {},
     "nuid": "1a375ced-7836-416b-808f-c7ba57489704",
     "showTitle": true,
     "title": "Python(pyspark)を使って算出"
    }
   },
   "outputs": [],
   "source": [
    "# summary data from pyspark.sql API\n",
    "metrics_api.toPandas().describe()"
   ]
  },
  {
   "cell_type": "markdown",
   "metadata": {
    "application/vnd.databricks.v1+cell": {
     "inputWidgets": {},
     "nuid": "97b57b65-ceb7-4971-bfea-4d61057f4c03",
     "showTitle": false,
     "title": ""
    }
   },
   "source": [
    "ここまでに算出したメトリクスは、時系列データのサマリーを表しています。\n",
    "\n",
    "モデル検証およびオーバーフィッティング回避を考える必要がります。時系列データの一般的なパターンは、時系列の初期部分（校正期間と呼ばれる）でモデルをトレーニングし、時系列の後期部分（ホールドアウト期間と呼ばれる）で検証することです。\n",
    "\n",
    "lifetimesライブラリでは、キャリブレーション期間とホールドアウト期間を用いた顧客ごとのメトリクスの導出がシンプルな関数呼び出しで可能です。\n",
    "\n",
    "今回のデータセットは限られた範囲のデータで構成されているため、ホールドアウト期間として過去90日分のデータを使用するよう、ライブラリの関数に与えています。この設定の構成を簡単に変更できるように、Databricksではウィジェットと呼ばれるシンプルなパラメータUIが実装されています。\n",
    "\n",
    "注：次のセルを実行するとノートブックの最上部に、テキストボックス・ウィジェットが追加されます。これを使って、保留期間の日数を変更することができます。"
   ]
  },
  {
   "cell_type": "code",
   "execution_count": 0,
   "metadata": {
    "application/vnd.databricks.v1+cell": {
     "inputWidgets": {},
     "nuid": "d38bf90b-1043-4c24-b25f-53c94b49d51a",
     "showTitle": false,
     "title": ""
    }
   },
   "outputs": [],
   "source": [
    "# NotebookのWidgetを作成 (デフォルト: 90-days)\n",
    "dbutils.widgets.text('holdout days', '90')"
   ]
  },
  {
   "cell_type": "code",
   "execution_count": 0,
   "metadata": {
    "application/vnd.databricks.v1+cell": {
     "inputWidgets": {},
     "nuid": "84762394-2a24-4d0b-baa7-d4a436e05bf0",
     "showTitle": true,
     "title": "lifetimesライブラリを使って算出"
    }
   },
   "outputs": [],
   "source": [
    "from datetime import timedelta\n",
    "\n",
    "# データセットの最後の日付を分析の「今日の日付」にする\n",
    "current_date = orders_pd['InvoiceDate'].max()\n",
    "\n",
    "# キャブレーション期間の最終日を定義する\n",
    "holdout_days = int(dbutils.widgets.get('holdout days'))\n",
    "calibration_end_date = current_date - timedelta(days = holdout_days)\n",
    "\n",
    "# lifetimesライブラリを使って、顧客メトリックを算出する\n",
    "metrics_cal_pd = (\n",
    "  lifetimes.utils.calibration_and_holdout_data(\n",
    "    orders_pd,\n",
    "    customer_id_col='CustomerID',\n",
    "    datetime_col='InvoiceDate',\n",
    "    observation_period_end = current_date,\n",
    "    calibration_period_end=calibration_end_date,\n",
    "    freq='D'    \n",
    "    )\n",
    "  )\n",
    "\n",
    "# display first few rows\n",
    "metrics_cal_pd.head(10)"
   ]
  },
  {
   "cell_type": "markdown",
   "metadata": {
    "application/vnd.databricks.v1+cell": {
     "inputWidgets": {},
     "nuid": "c69443e9-28d1-4bf2-b3fa-67f4d072b613",
     "showTitle": false,
     "title": ""
    }
   },
   "source": [
    "前回同様、Spark SQLを利用して同じ情報を得ることができます。ここでも、SQL文とSQL API(Pythonなどから呼び出す)の両方を使って検討します。\n",
    "\n",
    "このSQL文を理解するには、まず2つの主要部分に分かれていることを認識してください。\n",
    "\n",
    "1つ目の部分では、前のクエリの例で行ったのと同様に、校正期間の顧客ごとにコアメトリクス、すなわち再帰性、頻度、年齢（T）を計算します。\n",
    "\n",
    "2つ目の部分では、顧客ごとにホールドアウトした顧客の購入日の数を計算します。この値(frequency_holdout)は、キャリブレーション期間とホールドアウト期間の両方にわたる顧客の全取引履歴を調べたときに、校正期間の頻度(frequency_cal)に追加される増分を表しています。\n",
    "\n",
    "\n",
    "ロジックを単純化するために、CustomerHistoryという名前の共通テーブル式（CTE）をクエリの先頭に定義しています。このクエリは、顧客の取引履歴を構成する関連する日付を抽出するもので、前回調べたSQL文の中心にあるロジックをよく反映しています。唯一の違いは、保留期間の日数(duration_holdout)を含めていることです。"
   ]
  },
  {
   "cell_type": "code",
   "execution_count": 0,
   "metadata": {
    "application/vnd.databricks.v1+cell": {
     "inputWidgets": {},
     "nuid": "d17ec02a-b1c0-46bb-824b-64974b377a0d",
     "showTitle": true,
     "title": "SQL(Spark SQL)を使って算出"
    }
   },
   "outputs": [],
   "source": [
    "sql = '''\n",
    "WITH CustomerHistory \n",
    "  AS (\n",
    "    SELECT  -- nesting req'ed b/c can't SELECT DISTINCT on widget parameter\n",
    "      m.*,\n",
    "      getArgument('holdout days') as duration_holdout\n",
    "    FROM (\n",
    "      SELECT DISTINCT\n",
    "        x.customerid,\n",
    "        z.first_at,\n",
    "        TO_DATE(x.invoicedate) as transaction_at,\n",
    "        y.current_dt\n",
    "      FROM orders x\n",
    "      CROSS JOIN (SELECT MAX(TO_DATE(invoicedate)) as current_dt FROM orders) y                                -- current date (according to dataset)\n",
    "      INNER JOIN (SELECT customerid, MIN(TO_DATE(invoicedate)) as first_at FROM orders GROUP BY customerid) z  -- first order per customer\n",
    "        ON x.customerid=z.customerid\n",
    "      WHERE x.customerid IS NOT NULL\n",
    "    ) m\n",
    "  )\n",
    "SELECT\n",
    "    a.customerid as CustomerID,\n",
    "    a.frequency as frequency_cal,\n",
    "    a.recency as recency_cal,\n",
    "    a.T as T_cal,\n",
    "    COALESCE(b.frequency_holdout, 0.0) as frequency_holdout,\n",
    "    a.duration_holdout\n",
    "FROM ( -- CALIBRATION PERIOD CALCULATIONS\n",
    "    SELECT\n",
    "        p.customerid,\n",
    "        CAST(p.duration_holdout as float) as duration_holdout,\n",
    "        CAST(DATEDIFF(MAX(p.transaction_at), p.first_at) as float) as recency,\n",
    "        CAST(COUNT(DISTINCT p.transaction_at) - 1 as float) as frequency,\n",
    "        CAST(DATEDIFF(DATE_SUB(p.current_dt, int(p.duration_holdout)), p.first_at) as float) as T\n",
    "    FROM CustomerHistory p\n",
    "    WHERE p.transaction_at < DATE_SUB(p.current_dt, int(p.duration_holdout))  -- LIMIT THIS QUERY TO DATA IN THE CALIBRATION PERIOD\n",
    "    GROUP BY p.customerid, p.first_at, p.current_dt, p.duration_holdout\n",
    "  ) a\n",
    "LEFT OUTER JOIN ( -- HOLDOUT PERIOD CALCULATIONS\n",
    "  SELECT\n",
    "    p.customerid,\n",
    "    CAST(COUNT(DISTINCT p.transaction_at) as float) as frequency_holdout\n",
    "  FROM CustomerHistory p\n",
    "  WHERE \n",
    "    p.transaction_at >= DATE_SUB(p.current_dt, int(p.duration_holdout) ) AND  -- LIMIT THIS QUERY TO DATA IN THE HOLDOUT PERIOD\n",
    "    p.transaction_at <= p.current_dt\n",
    "  GROUP BY p.customerid\n",
    "  ) b\n",
    "  ON a.customerid=b.customerid\n",
    "ORDER BY CustomerID\n",
    "'''\n",
    "\n",
    "metrics_cal_sql = spark.sql(sql)\n",
    "display(metrics_cal_sql)"
   ]
  },
  {
   "cell_type": "markdown",
   "metadata": {
    "application/vnd.databricks.v1+cell": {
     "inputWidgets": {},
     "nuid": "cc027896-7f4d-4901-880d-238fea6ce86a",
     "showTitle": false,
     "title": ""
    }
   },
   "source": [
    "そして、これに相当するProgrammatic SQL APIのロジックは以下の通りです。"
   ]
  },
  {
   "cell_type": "code",
   "execution_count": 0,
   "metadata": {
    "application/vnd.databricks.v1+cell": {
     "inputWidgets": {},
     "nuid": "09b5a1ad-7ed8-4fac-8714-0a5f569ac1a4",
     "showTitle": true,
     "title": "Python(pyspark)を使って算出"
    }
   },
   "outputs": [],
   "source": [
    "from pyspark.sql.functions import avg, date_sub, coalesce, lit, expr\n",
    "\n",
    "# valid customer orders\n",
    "x = orders.where(orders.CustomerID.isNotNull())\n",
    "\n",
    "# calculate last date in dataset\n",
    "y = (\n",
    "  orders\n",
    "    .groupBy()\n",
    "    .agg(max(to_date(orders.InvoiceDate)).alias('current_dt'))\n",
    "  )\n",
    "\n",
    "# calculate first transaction date by customer\n",
    "z = (\n",
    "  orders\n",
    "    .groupBy(orders.CustomerID)\n",
    "    .agg(min(to_date(orders.InvoiceDate)).alias('first_at'))\n",
    "  )\n",
    "\n",
    "# combine customer history with date info (CUSTOMER HISTORY)\n",
    "p = (x\n",
    "    .crossJoin(y)\n",
    "    .join(z, x.CustomerID==z.CustomerID, how='inner')\n",
    "    .withColumn('duration_holdout', lit(int(dbutils.widgets.get('holdout days'))))\n",
    "    .select(\n",
    "      x.CustomerID.alias('customerid'),\n",
    "      z.first_at, \n",
    "      to_date(x.InvoiceDate).alias('transaction_at'), \n",
    "      y.current_dt, \n",
    "      'duration_holdout'\n",
    "      )\n",
    "     .distinct()\n",
    "    )\n",
    "\n",
    "# calculate relevant metrics by customer\n",
    "# note: date_sub requires a single integer value unless employed within an expr() call\n",
    "a = (p\n",
    "       .where(p.transaction_at < expr('date_sub(current_dt, duration_holdout)')) \n",
    "       .groupBy(p.customerid, p.current_dt, p.duration_holdout, p.first_at)\n",
    "       .agg(\n",
    "         (countDistinct(p.transaction_at)-1).cast(FloatType()).alias('frequency_cal'),\n",
    "         datediff( max(p.transaction_at), p.first_at).cast(FloatType()).alias('recency_cal'),\n",
    "         datediff( expr('date_sub(current_dt, duration_holdout)'), p.first_at).cast(FloatType()).alias('T_cal')\n",
    "       )\n",
    "    )\n",
    "\n",
    "b = (p\n",
    "      .where((p.transaction_at >= expr('date_sub(current_dt, duration_holdout)')) & (p.transaction_at <= p.current_dt) )\n",
    "      .groupBy(p.customerid)\n",
    "      .agg(\n",
    "        countDistinct(p.transaction_at).cast(FloatType()).alias('frequency_holdout')\n",
    "        )\n",
    "   )\n",
    "\n",
    "metrics_cal_api = (a\n",
    "                 .join(b, a.customerid==b.customerid, how='left')\n",
    "                 .select(\n",
    "                   a.customerid.alias('CustomerID'),\n",
    "                   a.frequency_cal,\n",
    "                   a.recency_cal,\n",
    "                   a.T_cal,\n",
    "                   coalesce(b.frequency_holdout, lit(0.0)).alias('frequency_holdout'),\n",
    "                   a.duration_holdout\n",
    "                   )\n",
    "                 .orderBy('CustomerID')\n",
    "              )\n",
    "\n",
    "display(metrics_cal_api)"
   ]
  },
  {
   "cell_type": "markdown",
   "metadata": {
    "application/vnd.databricks.v1+cell": {
     "inputWidgets": {},
     "nuid": "96269864-18e1-429a-ad18-d761fbcd3f68",
     "showTitle": false,
     "title": ""
    }
   },
   "source": [
    "サマリー統計を使って、これらの異なるロジックのユニットが同じ結果を返していることを再度確認することができます。"
   ]
  },
  {
   "cell_type": "code",
   "execution_count": 0,
   "metadata": {
    "application/vnd.databricks.v1+cell": {
     "inputWidgets": {},
     "nuid": "5cb3732e-be5e-4fcb-bcb9-bcfeb1d29adb",
     "showTitle": true,
     "title": "lifetimesライブラリを使って算出 - 結果確認"
    }
   },
   "outputs": [],
   "source": [
    "# summary data from lifetimes\n",
    "metrics_cal_pd.describe()"
   ]
  },
  {
   "cell_type": "code",
   "execution_count": 0,
   "metadata": {
    "application/vnd.databricks.v1+cell": {
     "inputWidgets": {},
     "nuid": "99ee898e-b0b5-46bb-9c1e-6b0b9291c907",
     "showTitle": true,
     "title": "SQL(Spark SQL)を使って算出 - 結果確認"
    }
   },
   "outputs": [],
   "source": [
    "# summary data from SQL statement\n",
    "metrics_cal_sql.toPandas().describe()"
   ]
  },
  {
   "cell_type": "code",
   "execution_count": 0,
   "metadata": {
    "application/vnd.databricks.v1+cell": {
     "inputWidgets": {},
     "nuid": "78125a70-70d8-4a94-a0c6-2f5390c0232d",
     "showTitle": true,
     "title": "Python(pyspark)を使って算出 - 結果確認"
    }
   },
   "outputs": [],
   "source": [
    "# summary data from pyspark.sql API\n",
    "metrics_cal_api.toPandas().describe()"
   ]
  },
  {
   "cell_type": "markdown",
   "metadata": {
    "application/vnd.databricks.v1+cell": {
     "inputWidgets": {},
     "nuid": "c4f2b9cb-b7fc-413e-a8b1-b97075ba3db2",
     "showTitle": false,
     "title": ""
    }
   },
   "source": [
    "データの準備はほぼ完了しています。最後に、リピート購入のない顧客を除外します。すなわち、frequencyまたはfrequency_calが0の場合です。\n",
    "\n",
    "使用するPareto/NBDおよびBG/NBDモデルは、リピート取引のある顧客に対してのみ計算を行うことに焦点を当てています。BG/NBDモデルを修正したMBG/NBDモデルは、リピート購入のない顧客を対象としており、lifetimesライブラリでサポートされています。しかし、現在使用されているBYTDモデルの中で最も人気のある2つのモデルにこだわるため、データをその要件に合わせて制限します。\n",
    "\n",
    "\n",
    "注: ノートブックのこのセクションで以前に行ったサイド・バイ・サイドの比較との一貫性を保つために、pandasとSpark DataFramesの両方にフィルターをかける方法を示しています。 実際の実装では、データの準備にpandasとSpark DataFramesのどちらを使用するかを選択するだけです。"
   ]
  },
  {
   "cell_type": "code",
   "execution_count": 0,
   "metadata": {
    "application/vnd.databricks.v1+cell": {
     "inputWidgets": {},
     "nuid": "5003371c-bbee-4b33-939e-b088a7feb6e5",
     "showTitle": false,
     "title": ""
    }
   },
   "outputs": [],
   "source": [
    "# リピートなしの顧客を除外(フルデータセットの方のDataFrame)\n",
    "filtered_pd = metrics_pd[metrics_pd['frequency'] > 0]\n",
    "filtered = metrics_api.where(metrics_api.frequency > 0)\n",
    "\n",
    "## リピートなしの顧客を除外(キャリブレーションのDataFrame)\n",
    "filtered_cal_pd = metrics_cal_pd[metrics_cal_pd['frequency_cal'] > 0]\n",
    "filtered_cal = metrics_cal_api.where(metrics_cal_api.frequency_cal > 0)"
   ]
  },
  {
   "cell_type": "markdown",
   "metadata": {
    "application/vnd.databricks.v1+cell": {
     "inputWidgets": {},
     "nuid": "a0adeda1-a3f2-469e-bf54-55c3d3b0f2cc",
     "showTitle": false,
     "title": ""
    }
   },
   "source": [
    "### Step 4: モデルのトレーニング(学習)\n",
    "\n",
    "\n",
    "モデルのトレーニングを簡単に行うために、[パレート/NBDモデル（オリジナルのBTYDモデル）](https://www.jstor.org/stable/2631608)を使用した簡単な演習から始めましょう。このノートブックの最後のセクションで構築されたキャリブレーション-ホールドアウトデータセットを使用して、キャリブレーションデータにモデルをフィットさせ、後でホールドアウトデータを使用して評価します。"
   ]
  },
  {
   "cell_type": "code",
   "execution_count": 0,
   "metadata": {
    "application/vnd.databricks.v1+cell": {
     "inputWidgets": {},
     "nuid": "4e95a9ea-b754-4745-b978-bc2bd76831cf",
     "showTitle": false,
     "title": ""
    }
   },
   "outputs": [],
   "source": [
    "from lifetimes.fitters.pareto_nbd_fitter import ParetoNBDFitter\n",
    "from lifetimes.fitters.beta_geo_fitter import BetaGeoFitter\n",
    "\n",
    "# Spark DFをPandas DFに変換\n",
    "input_pd = filtered_cal.toPandas()\n",
    "\n",
    "# モデルの学習\n",
    "model = ParetoNBDFitter(penalizer_coef=0.0)\n",
    "model.fit( input_pd['frequency_cal'], input_pd['recency_cal'], input_pd['T_cal'])"
   ]
  },
  {
   "cell_type": "markdown",
   "metadata": {
    "application/vnd.databricks.v1+cell": {
     "inputWidgets": {},
     "nuid": "4746531c-6fc5-4e14-b5fc-b70e3bd44c39",
     "showTitle": false,
     "title": ""
    }
   },
   "source": [
    "モデルがフィットしたところで、ホールドアウト期間の予測をしてみましょう。次のステップで比較できるように、同じ期間の実績値を取得します。"
   ]
  },
  {
   "cell_type": "code",
   "execution_count": 0,
   "metadata": {
    "application/vnd.databricks.v1+cell": {
     "inputWidgets": {},
     "nuid": "60317dda-e64e-4f33-a847-1388aebe80db",
     "showTitle": false,
     "title": ""
    }
   },
   "outputs": [],
   "source": [
    "# ホールドアウト期間のFrequencyを学習したモデルを使って推測する\n",
    "s\n",
    "# 実際のFrequency\n",
    "frequency_holdout_actual = input_pd['frequency_holdout']"
   ]
  },
  {
   "cell_type": "markdown",
   "metadata": {
    "application/vnd.databricks.v1+cell": {
     "inputWidgets": {},
     "nuid": "4a46ec75-2f65-4d1b-83ec-6b618b990966",
     "showTitle": false,
     "title": ""
    }
   },
   "source": [
    "実際の値と予測値があれば、いくつかの標準的な評価指標を計算することができます。 今後の評価を容易にするために、これらの計算を関数にまとめておきましょう。"
   ]
  },
  {
   "cell_type": "code",
   "execution_count": 0,
   "metadata": {
    "application/vnd.databricks.v1+cell": {
     "inputWidgets": {},
     "nuid": "b52b7a24-4e00-41bd-b76a-c91cc8f54a0e",
     "showTitle": false,
     "title": ""
    }
   },
   "outputs": [],
   "source": [
    "import numpy as np\n",
    "\n",
    "def score_model(actuals, predicted, metric='mse'):\n",
    "  # metric名を小文字に統一して扱う\n",
    "  metric = metric.lower()\n",
    "  \n",
    "  # metric引数が、二乗誤差平均(mse)と標準偏差(rmse)の場合\n",
    "  if metric=='mse' or metric=='rmse':\n",
    "    val = np.sum(np.square(actuals-predicted))/actuals.shape[0]\n",
    "    if metric=='rmse':\n",
    "        val = np.sqrt(val)\n",
    "  \n",
    "  # metric引数が、平均絶対誤差(mae)の場合\n",
    "  elif metric=='mae':\n",
    "    np.sum(np.abs(actuals-predicted))/actuals.shape[0]\n",
    "  \n",
    "  else:\n",
    "    val = None\n",
    "  \n",
    "  return val\n",
    "\n",
    "# 上記で定義した関数`score_model()`を使って、モデルの二乗誤差平均(mse)を計算・表示\n",
    "print('MSE: {0}'.format(score_model(frequency_holdout_actual, frequency_holdout_predicted, 'mse')))"
   ]
  },
  {
   "cell_type": "markdown",
   "metadata": {
    "application/vnd.databricks.v1+cell": {
     "inputWidgets": {},
     "nuid": "df3282be-988b-460b-b5a0-bf2df66a3123",
     "showTitle": false,
     "title": ""
    }
   },
   "source": [
    "パレート/NBDモデルの内部は非常に複雑であるかもしれません。簡単に言うと、このモデルは2つの曲線の二重積分を計算します。1つは母集団内の顧客の購入頻度を表し、もう1つは以前の購入イベント後の顧客の生存率を表します。すべての計算ロジックは、lifetimesライブラリによってシンプルなメソッドコールになっています。\n",
    "\n",
    "モデルをトレーニングするのは簡単かもしれませんが、ここでは、パレート/NBDモデルとBG/NBDモデルの2つのモデルを使用することができます。\n",
    "[BG/NBDモデル](http://brucehardie.com/papers/018/fader_et_al_mksc_05.pdf)は、顧客寿命の計算を単純化したモデルで、BTYDアプローチを広めたモデルでもあります。どちらのモデルも、同じ顧客の特徴をもとに、同じ制約条件を採用しています。(2つのモデルの主な違いは、BG/NBDモデルでは、生存曲線をパレート分布ではなくベータ幾何分布にマッピングすることです)。可能な限り最高の適合性を得るために、両モデルの結果を我々のデータセットと比較することは価値のあることです。\n",
    "\n",
    "\n",
    "それぞれのモデルは，L2ノルム正則化パラメータを利用します． どのモデルが最も優れているかを調べるだけでなく，このパラメータにどの値（0と1の間）が最も適しているかを検討する必要があります． これにより、ハイパーパラメータを調整することで、かなり広い探索空間を得ることができます。\n",
    "\n",
    "この作業を支援するために、[Hyperopt](http://hyperopt.github.io/hyperopt/)を利用します。Hyperoptは、ハイパーパラメータ探索空間に対するモデルのトレーニングと評価を並列化します。これは、1台のマシンのマルチプロセッサ・リソースを活用することも、Sparkクラスタが提供する広範なリソースを活用することもできます。モデルを反復するたびに、損失関数が計算されます。様々な最適化アルゴリズムを用いて、hyperoptは探索空間をナビゲートし、損失関数によって返される値を最小化するために利用可能なパラメータ設定の最適な組み合わせを見つけます。\n",
    "\n",
    "\n",
    "Hyperoptを利用するには、探索空間を定義し、モデルの学習と評価のロジックを書き換えて、損失関数の測定値を返す単一の関数呼び出しを提供します。"
   ]
  },
  {
   "cell_type": "code",
   "execution_count": 0,
   "metadata": {
    "application/vnd.databricks.v1+cell": {
     "inputWidgets": {},
     "nuid": "e79af932-ec38-482f-a4f0-40ccde5b16bb",
     "showTitle": false,
     "title": ""
    }
   },
   "outputs": [],
   "source": [
    "from hyperopt import hp, fmin, tpe, rand, SparkTrials, STATUS_OK, STATUS_FAIL, space_eval\n",
    "\n",
    "# サーチする範囲を指定する\n",
    "search_space = hp.choice('model_type',[\n",
    "                  {'type':'Pareto/NBD', 'l2':hp.uniform('pareto_nbd_l2', 0.0, 1.0)},\n",
    "                  {'type':'BG/NBD'    , 'l2':hp.uniform('bg_nbd_l2', 0.0, 1.0)}  \n",
    "                  ]\n",
    "                )\n",
    "\n",
    "# モデルを評価する関数を定義する\n",
    "def evaluate_model(params):\n",
    "  \n",
    "  # accesss replicated input_pd dataframe\n",
    "  data = inputs.value\n",
    "  \n",
    "  # 外部から与えられるパラメータをキャッチする\n",
    "  model_type = params['type']\n",
    "  l2_reg = params['l2']\n",
    "  \n",
    "  # モデルの初期化\n",
    "  if model_type == 'BG/NBD':\n",
    "    model = BetaGeoFitter(penalizer_coef=l2_reg)\n",
    "  elif model_type == 'Pareto/NBD':\n",
    "    model = ParetoNBDFitter(penalizer_coef=l2_reg)\n",
    "  else:\n",
    "    return {'loss': None, 'status': STATUS_FAIL}\n",
    "  \n",
    "  # モデルの学習\n",
    "  model.fit(data['frequency_cal'], data['recency_cal'], data['T_cal'])\n",
    "  \n",
    "  # モデルの評価\n",
    "  frequency_holdout_actual = data['frequency_holdout']\n",
    "  frequency_holdout_predicted = model.predict(data['duration_holdout'], data['frequency_cal'], data['recency_cal'], data['T_cal'])\n",
    "  mse = score_model(frequency_holdout_actual, frequency_holdout_predicted, 'mse')\n",
    "  \n",
    "  # スコアとステータスを返す\n",
    "  return {'loss': mse, 'status': STATUS_OK}"
   ]
  },
  {
   "cell_type": "markdown",
   "metadata": {
    "application/vnd.databricks.v1+cell": {
     "inputWidgets": {},
     "nuid": "38976e9e-8e7e-4ceb-88ed-f90aa7d5a858",
     "showTitle": false,
     "title": ""
    }
   },
   "source": [
    "evaluate_model関数は、inputsという変数からデータを取得していることに注目してください。inputsは次のセルで、先ほど使用したinputs_pd DataFrameを含む[ブロードキャスト変数](https://spark.apache.org/docs/latest/rdd-programming-guide.html#broadcast-variables)として定義されています。ブロードキャスト変数として、モデルが使用するデータセットの完全なスタンドアローンコピーがSparkクラスタの各ワーカーに複製されます。これにより、hyperoptの反復ごとにクラスタ・ドライバからワーカーに送信しなければならないデータ量が制限されます。このドキュメントやその他のhyperoptのベストプラクティスについては、[こちら](https://docs.databricks.com/applications/machine-learning/automl/hyperopt/hyperopt-best-practices.html)を参照してください。\n",
    "\n",
    "すべての準備が整ったところで、データセットに最適なモデルタイプとL2設定を特定するために、100回の反復でハイパーパラメータのチューニングを実行してみましょう。"
   ]
  },
  {
   "cell_type": "code",
   "execution_count": 0,
   "metadata": {
    "application/vnd.databricks.v1+cell": {
     "inputWidgets": {},
     "nuid": "e4665aef-7ce8-40bf-a23f-247bd5dbf3c3",
     "showTitle": false,
     "title": ""
    }
   },
   "outputs": [],
   "source": [
    "import mlflow\n",
    "\n",
    "# input_pd(Pandas DF)をsparkクラスタにコピーして配っておく\n",
    "inputs = sc.broadcast(input_pd)\n",
    "\n",
    "# configure hyperopt settings to distribute to all executors on workers\n",
    "spark_trials = SparkTrials(parallelism=2)\n",
    "\n",
    "# select optimization algorithm\n",
    "algo = tpe.suggest\n",
    "\n",
    "# perform hyperparameter tuning (logging iterations to mlflow)\n",
    "argmin = fmin(\n",
    "  fn=evaluate_model,\n",
    "  space=search_space,\n",
    "  algo=algo,\n",
    "  max_evals=100,\n",
    "  trials=spark_trials\n",
    "  )\n",
    "\n",
    "# release the broadcast dataset\n",
    "inputs.unpersist()"
   ]
  },
  {
   "cell_type": "markdown",
   "metadata": {
    "application/vnd.databricks.v1+cell": {
     "inputWidgets": {},
     "nuid": "ce6784af-a13e-4524-bff8-93b2cfe670c5",
     "showTitle": false,
     "title": ""
    }
   },
   "source": [
    "DatabricksのMLランタイムと一緒に使用すると、探索空間の評価を構成する個々のランがmlflowと呼ばれる組み込みのリポジトリで追跡されます。Databricksのmlflowインターフェースを使ってhyperoptが生成したモデルをレビューする方法については、[こちらのドキュメント](https://docs.databricks.com/applications/machine-learning/automl/hyperopt/hyperopt-spark-mlflow-integration.html)をご覧ください。\n",
    "\n",
    "hyperoptの反復の間に観察された最適なハイパーパラメータの設定は、argmin変数に取り込まれます。 space_eval関数を使用することで，どの設定が最も優れているかをわかりやすく表現することができます．"
   ]
  },
  {
   "cell_type": "code",
   "execution_count": 0,
   "metadata": {
    "application/vnd.databricks.v1+cell": {
     "inputWidgets": {},
     "nuid": "6586f7dc-f8d7-4cb4-bc7d-2403ed6440fc",
     "showTitle": false,
     "title": ""
    }
   },
   "outputs": [],
   "source": [
    "# print optimum hyperparameter settings\n",
    "print(space_eval(search_space, argmin))"
   ]
  },
  {
   "cell_type": "markdown",
   "metadata": {
    "application/vnd.databricks.v1+cell": {
     "inputWidgets": {},
     "nuid": "e7e9e6f7-2b1a-4d82-9a4c-16756c3c04c9",
     "showTitle": false,
     "title": ""
    }
   },
   "source": [
    "さて、*最適な* パラメータ設定がわかったところで、このパラメータを使ってモデルをトレーニングし、より詳細なモデル評価を行ってみましょう。\n",
    "\n",
    "注：検索スペースの検索方法が異なるため、hyperoptの実行結果が若干異なる場合があります。"
   ]
  },
  {
   "cell_type": "code",
   "execution_count": 0,
   "metadata": {
    "application/vnd.databricks.v1+cell": {
     "inputWidgets": {},
     "nuid": "c04d3906-656c-4bc3-938e-352391d15794",
     "showTitle": false,
     "title": ""
    }
   },
   "outputs": [],
   "source": [
    "# get hyperparameter settings\n",
    "params = space_eval(search_space, argmin)\n",
    "model_type = params['type']\n",
    "l2_reg = params['l2']\n",
    "\n",
    "# instantiate and configure model\n",
    "if model_type == 'BG/NBD':\n",
    "  model = BetaGeoFitter(penalizer_coef=l2_reg)\n",
    "elif model_type == 'Pareto/NBD':\n",
    "  model = ParetoNBDFitter(penalizer_coef=l2_reg)\n",
    "else:\n",
    "  raise 'Unrecognized model type'\n",
    "  \n",
    "# train the model\n",
    "model.fit(input_pd['frequency_cal'], input_pd['recency_cal'], input_pd['T_cal'])"
   ]
  },
  {
   "cell_type": "markdown",
   "metadata": {
    "application/vnd.databricks.v1+cell": {
     "inputWidgets": {},
     "nuid": "6ef17ab3-2684-4bf2-941f-7c43b5d42234",
     "showTitle": false,
     "title": ""
    }
   },
   "source": [
    "### Step 5: モデルの評価\n",
    "\n",
    "このノートの最後のセクションで定義された方法を使って、新しく学習されたモデルのMSEを計算することができます。"
   ]
  },
  {
   "cell_type": "code",
   "execution_count": 0,
   "metadata": {
    "application/vnd.databricks.v1+cell": {
     "inputWidgets": {},
     "nuid": "1df79526-a7a5-4867-bd7b-f1e762754b1d",
     "showTitle": false,
     "title": ""
    }
   },
   "outputs": [],
   "source": [
    "# score the model\n",
    "frequency_holdout_actual = input_pd['frequency_holdout']\n",
    "frequency_holdout_predicted = model.predict(input_pd['duration_holdout'], input_pd['frequency_cal'], input_pd['recency_cal'], input_pd['T_cal'])\n",
    "mse = score_model(frequency_holdout_actual, frequency_holdout_predicted, 'mse')\n",
    "\n",
    "print('MSE: {0}'.format(mse))"
   ]
  },
  {
   "cell_type": "markdown",
   "metadata": {
    "application/vnd.databricks.v1+cell": {
     "inputWidgets": {},
     "nuid": "a72bebff-8327-435c-aaf9-e26e0121ed31",
     "showTitle": false,
     "title": ""
    }
   },
   "source": [
    "モデルを比較するには重要ですが、個々のモデルの全体的な適合性という点では、MSE指標の解釈は少し難しいです。モデルがデータにどれだけフィットしているかをより深く理解するために、いくつかの実測値と予測値の関係を視覚化してみましょう。\n",
    "\n",
    "まず、キャリブレーション期間中の購入頻度が、ホールドアウト期間中の実際の頻度（frequency_holdout）および予測頻度（model_predictions）とどのように関連しているかを調べてみます。"
   ]
  },
  {
   "cell_type": "code",
   "execution_count": 0,
   "metadata": {
    "application/vnd.databricks.v1+cell": {
     "inputWidgets": {},
     "nuid": "5966c66c-8fdb-4d8b-ad10-263da1847a43",
     "showTitle": false,
     "title": ""
    }
   },
   "outputs": [],
   "source": [
    "from lifetimes.plotting import plot_calibration_purchases_vs_holdout_purchases\n",
    "\n",
    "plot_calibration_purchases_vs_holdout_purchases(\n",
    "  model, \n",
    "  input_pd, \n",
    "  n=90, \n",
    "  **{'figsize':(8,8)}\n",
    "  )\n",
    "\n",
    "display()"
   ]
  },
  {
   "cell_type": "markdown",
   "metadata": {
    "application/vnd.databricks.v1+cell": {
     "inputWidgets": {},
     "nuid": "8df5d893-9cf0-410c-b0ee-56ccc3e26e73",
     "showTitle": false,
     "title": ""
    }
   },
   "source": [
    "ここでわかることは、キャリブレーション期間の購入回数が多いほど、ホールドアウト期間の平均購入回数も多くなることが予測されます。ただし、キャリブレーション期間の購入回数が多い（60回以上）お客様を考慮すると、実際の値はモデルの予測から大きく乖離します。\n",
    "\n",
    "このNotebookの「データ探索」ステップで可視化したチャートによると、このように多くの購入回数を持つ顧客はほとんどいないので、この乖離は頻度の高い範囲のごく限られた事例の結果である可能性があります。より多くのデータがあれば、予測値と実測値がこの高域で再び一致するかもしれません。この乖離が続くようであれば、信頼できる予測ができない顧客エンゲージメント頻度の範囲を示しているのかもしれません。\n",
    "\n",
    "同じメソッドコールを使用して、ホールドアウト期間中の平均購入回数に対する最終購入からの時間を視覚化することができます。この図では、最終購入からの時間が長くなるにつれて、ホールドアウト期間中の購入数が減少していることがわかります。 つまり、しばらく会っていないお客様は、すぐには戻ってこない可能性が高いということです。\n",
    "\n",
    "\n",
    "注: 前回同様、ビジュアライゼーションに集中するため、以下のセルではコードを隠します。関連するPythonロジックを見るには **\"Show code\"** を使用してください。"
   ]
  },
  {
   "cell_type": "code",
   "execution_count": 0,
   "metadata": {
    "application/vnd.databricks.v1+cell": {
     "inputWidgets": {},
     "nuid": "c31fb60f-4c10-455f-b937-fa8406b52db1",
     "showTitle": false,
     "title": ""
    }
   },
   "outputs": [],
   "source": [
    "plot_calibration_purchases_vs_holdout_purchases(\n",
    "  model, \n",
    "  input_pd, \n",
    "  kind='time_since_last_purchase', \n",
    "  n=90, \n",
    "  **{'figsize':(8,8)}\n",
    "  )\n",
    "\n",
    "display()"
   ]
  },
  {
   "cell_type": "markdown",
   "metadata": {
    "application/vnd.databricks.v1+cell": {
     "inputWidgets": {},
     "nuid": "0d506421-dd74-487d-9c06-736bb0a2d683",
     "showTitle": false,
     "title": ""
    }
   },
   "source": [
    "このグラフに最終購入時の顧客の経過日数(Age)を入れてみると、顧客ライフサイクルにおける最終購入のタイミングは、顧客の経過日数が大きくなるまで、ホールドアウト期間の購入回数にはあまり影響しないようです。これは、長く付き合ってくれる顧客は、より頻繁に購入してくれる可能性が高いことを示しています。"
   ]
  },
  {
   "cell_type": "code",
   "execution_count": 0,
   "metadata": {
    "application/vnd.databricks.v1+cell": {
     "inputWidgets": {},
     "nuid": "9bab20f6-a9b9-4922-9568-b1601af59094",
     "showTitle": false,
     "title": ""
    }
   },
   "outputs": [],
   "source": [
    "plot_calibration_purchases_vs_holdout_purchases(\n",
    "  model, \n",
    "  input_pd, \n",
    "  kind='recency_cal', \n",
    "  n=300,\n",
    "  **{'figsize':(8,8)}\n",
    "  )\n",
    "\n",
    "display()"
   ]
  },
  {
   "cell_type": "markdown",
   "metadata": {
    "application/vnd.databricks.v1+cell": {
     "inputWidgets": {},
     "nuid": "be28e745-667d-4d71-91ad-3124e385e64a",
     "showTitle": false,
     "title": ""
    }
   },
   "source": [
    "ざっと見たところ、このモデルは完璧ではありませんが、いくつかの有用なパターンを捉えていることがわかります。これらのパターンを使って、顧客がエンゲージメントを維持する確率を計算することができます。"
   ]
  },
  {
   "cell_type": "code",
   "execution_count": 0,
   "metadata": {
    "application/vnd.databricks.v1+cell": {
     "inputWidgets": {},
     "nuid": "f4fb2947-52c3-44fc-b697-8becf59f6a93",
     "showTitle": false,
     "title": ""
    }
   },
   "outputs": [],
   "source": [
    "# add a field with the probability a customer is currently \"alive\"\n",
    "filtered_pd['prob_alive']=model.conditional_probability_alive(\n",
    "    filtered_pd['frequency'], \n",
    "    filtered_pd['recency'], \n",
    "    filtered_pd['T']\n",
    "    )\n",
    "\n",
    "filtered_pd.head(10)"
   ]
  },
  {
   "cell_type": "markdown",
   "metadata": {
    "application/vnd.databricks.v1+cell": {
     "inputWidgets": {},
     "nuid": "1a6d8383-cf90-4a61-8cf1-fe73103b0cc1",
     "showTitle": false,
     "title": ""
    }
   },
   "source": [
    "顧客が生存している確率の予測は、モデルをマーケティングプロセスに応用する上で非常に興味深いものとなるでしょう。しかし、モデルの展開を検討する前に、データセットの中で活動が控えめな1人の顧客（CustomerID 12383）の履歴を見て、この確率が顧客の再活動に伴ってどのように変化するかを見てみましょう。"
   ]
  },
  {
   "cell_type": "code",
   "execution_count": 0,
   "metadata": {
    "application/vnd.databricks.v1+cell": {
     "inputWidgets": {},
     "nuid": "38c41fd4-49c7-444e-bd9c-31b8f656730f",
     "showTitle": false,
     "title": ""
    }
   },
   "outputs": [],
   "source": [
    "from lifetimes.plotting import plot_history_alive\n",
    "import matplotlib.pyplot as plt\n",
    "\n",
    "# clear past visualization instructions\n",
    "plt.clf()\n",
    "\n",
    "# customer of interest\n",
    "CustomerID = '12383' #'12348'#\n",
    "\n",
    "# grab customer's metrics and transaction history\n",
    "cmetrics_pd = input_pd[input_pd['CustomerID']==CustomerID]\n",
    "trans_history = orders_pd.loc[orders_pd['CustomerID'] == CustomerID]\n",
    "\n",
    "# calculate age at end of dataset\n",
    "days_since_birth = 400\n",
    "\n",
    "# plot history of being \"alive\"\n",
    "plot_history_alive(\n",
    "  model, \n",
    "  days_since_birth, \n",
    "  trans_history, \n",
    "  'InvoiceDate'\n",
    "  )\n",
    "\n",
    "display()"
   ]
  },
  {
   "cell_type": "markdown",
   "metadata": {
    "application/vnd.databricks.v1+cell": {
     "inputWidgets": {},
     "nuid": "6bb47f57-27d3-47ad-b923-1a557d98527d",
     "showTitle": false,
     "title": ""
    }
   },
   "source": [
    "このグラフから、この顧客が2011年1月に最初の購入を行い、その月の後半にリピート購入を行ったことがわかります。その後、約1ヶ月間の活動休止期間があり、この顧客が生存している確率はわずかに低下しましたが、同年3月、4月、6月に購入された際には、顧客が活動していることを示すシグナルが繰り返し発信されました。最後の6月の購入以降、その顧客は取引履歴に現れず、顧客が生きているという確信は、それまでのシグナルを考えると緩やかなペースで低下しています。\n",
    "\n",
    "モデルはどのようにしてこれらの確率を算出しているのでしょうか？正確な計算は難しいのですが、生存している確率を頻度と反復性に関連づけてヒートマップとしてプロットすることで、これら2つの値の交点に割り当てられた確率を理解することができます。"
   ]
  },
  {
   "cell_type": "code",
   "execution_count": 0,
   "metadata": {
    "application/vnd.databricks.v1+cell": {
     "inputWidgets": {},
     "nuid": "26474c2a-6e97-48a9-9287-2dcfc421de85",
     "showTitle": false,
     "title": ""
    }
   },
   "outputs": [],
   "source": [
    "from lifetimes.plotting import plot_probability_alive_matrix\n",
    "\n",
    "# set figure size\n",
    "plt.subplots(figsize=(12, 8))\n",
    "\n",
    "plot_probability_alive_matrix(model)\n",
    "\n",
    "display()"
   ]
  },
  {
   "cell_type": "markdown",
   "metadata": {
    "application/vnd.databricks.v1+cell": {
     "inputWidgets": {},
     "nuid": "b3e43712-65c7-43c4-b650-ba8f611b17fb",
     "showTitle": false,
     "title": ""
    }
   },
   "source": [
    "顧客の生存確率を予測するだけでなく、今後30日間のような将来のある時間間隔において、予想される顧客の購入数を算出することができます。"
   ]
  },
  {
   "cell_type": "code",
   "execution_count": 0,
   "metadata": {
    "application/vnd.databricks.v1+cell": {
     "inputWidgets": {},
     "nuid": "9568bd98-b9b4-47aa-bd40-d6487fb9ad5e",
     "showTitle": false,
     "title": ""
    }
   },
   "outputs": [],
   "source": [
    "from lifetimes.plotting import plot_frequency_recency_matrix\n",
    "\n",
    "# set figure size\n",
    "plt.subplots(figsize=(12, 8))\n",
    "\n",
    "plot_frequency_recency_matrix(model, T=30)\n",
    "\n",
    "display()"
   ]
  },
  {
   "cell_type": "markdown",
   "metadata": {
    "application/vnd.databricks.v1+cell": {
     "inputWidgets": {},
     "nuid": "7ec2caa2-bfb3-49f1-b83b-094d95f66962",
     "showTitle": false,
     "title": ""
    }
   },
   "source": [
    "先ほどと同様に、現在の指標に基づいて、お客様ごとにこの確率を計算することができます。"
   ]
  },
  {
   "cell_type": "code",
   "execution_count": 0,
   "metadata": {
    "application/vnd.databricks.v1+cell": {
     "inputWidgets": {},
     "nuid": "f81b6e49-6f9a-4799-9968-376a07a4b36b",
     "showTitle": false,
     "title": ""
    }
   },
   "outputs": [],
   "source": [
    "filtered_pd['purchases_next30days']=(\n",
    "  model.conditional_expected_number_of_purchases_up_to_time(\n",
    "    30, \n",
    "    filtered_pd['frequency'], \n",
    "    filtered_pd['recency'], \n",
    "    filtered_pd['T']\n",
    "    )\n",
    "  )\n",
    "\n",
    "filtered_pd.head(10)\n",
    "#display( spark.createDataFrame( filtered_pd ) )"
   ]
  },
  {
   "cell_type": "markdown",
   "metadata": {
    "application/vnd.databricks.v1+cell": {
     "inputWidgets": {},
     "nuid": "7327df4c-6d10-48e5-9ed7-daf9b278c8be",
     "showTitle": false,
     "title": ""
    }
   },
   "source": [
    "### Step 6: モデルの展開と予測計算(スコアリング)\n",
    "\n",
    "\n",
    "\n",
    "学習されたBTYDモデルを使用する方法は数多くあります。 顧客がまだ契約を継続している可能性を理解することができます。 また、ある日数の間に顧客が購入すると予想される数を予測することもできます。 これらの予測を行うために必要なのは、トレーニングされたモデルと、頻度(frequency)、反復性(recency)、および顧客の経過日数(Age, T)の値だけです。"
   ]
  },
  {
   "cell_type": "code",
   "execution_count": 0,
   "metadata": {
    "application/vnd.databricks.v1+cell": {
     "inputWidgets": {},
     "nuid": "949f9c3c-5da6-472a-b6fe-5b64d8033709",
     "showTitle": false,
     "title": ""
    }
   },
   "outputs": [],
   "source": [
    "frequency = 6\n",
    "recency = 255\n",
    "T = 300\n",
    "t = 30\n",
    "\n",
    "print('Probability of Alive: {0}'.format( model.conditional_probability_alive(frequency, recency, T) ))\n",
    "print('Expected Purchases in next {0} days: {1}'.format(t, model.conditional_expected_number_of_purchases_up_to_time(t, frequency, recency, T) ))"
   ]
  },
  {
   "cell_type": "markdown",
   "metadata": {
    "application/vnd.databricks.v1+cell": {
     "inputWidgets": {},
     "nuid": "a9737880-f9a0-4dfb-b6a4-17d3bae8b0e2",
     "showTitle": false,
     "title": ""
    }
   },
   "source": [
    "ここでの課題は、モデルをパッケージ化して、この目的に再利用できるようにすることです。前述したように、ハイパーパラメータ・チューニングの際には、mlflowとhyperoptを組み合わせて、モデルの実行をキャプチャしました。プラットフォームとしてのmlflowは、関数としてのモデルやマイクロサービス・アプリケーションのデプロイメントなど、モデルの開発やデプロイメントに伴うさまざまな課題を解決するために設計されています。\n",
    "\n",
    "\n",
    "\n",
    "\n",
    "MLflowは、[多くの一般的なモデルタイプ](https://www.mlflow.org/docs/latest/models.html#built-in-model-flavors)に対して、すぐに導入の課題に取り組むことができます。しかし、ライフタイム・モデルはその一つではありません。mlflowをデプロイメントビークルとして使用するためには、標準的なmlflowのAPIコールをモデルに適用できるロジックに変換するカスタムラッパークラスを書く必要があります。\n",
    "\n",
    "\n",
    "\n",
    "\n",
    "\n",
    "これを説明するために、寿命モデルのラッパークラスを実装しました。このラッパークラスは、モデルに対する複数の予測呼び出しにmlflowのpredict()メソッドをマッピングします。通常、predict()を単一の予測にマッピングしますが、カスタムロジックを実装するためにラッパーを使用する多くの方法の1つを示すために、返される結果の複雑さを増加させました。"
   ]
  },
  {
   "cell_type": "code",
   "execution_count": 0,
   "metadata": {
    "application/vnd.databricks.v1+cell": {
     "inputWidgets": {},
     "nuid": "56cc1bcf-e49f-4c6e-ab35-761eecd78b96",
     "showTitle": false,
     "title": ""
    }
   },
   "outputs": [],
   "source": [
    "import mlflow\n",
    "import mlflow.pyfunc\n",
    "\n",
    "# create wrapper for lifetimes model\n",
    "class _lifetimesModelWrapper(mlflow.pyfunc.PythonModel):\n",
    "  \n",
    "    def __init__(self, lifetimes_model):\n",
    "        self.lifetimes_model = lifetimes_model\n",
    "\n",
    "    def predict(self, context, dataframe):\n",
    "      \n",
    "      # access input series\n",
    "      frequency = dataframe.iloc[:,0]\n",
    "      recency = dataframe.iloc[:,1]\n",
    "      T = dataframe.iloc[:,2]\n",
    "      \n",
    "      # calculate probability currently alive\n",
    "      results = pd.DataFrame( \n",
    "                  self.lifetimes_model.conditional_probability_alive(frequency, recency, T),\n",
    "                  columns=['alive']\n",
    "                  )\n",
    "      # calculate expected purchases for provided time period\n",
    "      results['purch_15day'] = self.lifetimes_model.conditional_expected_number_of_purchases_up_to_time(15, frequency, recency, T)\n",
    "      results['purch_30day'] = self.lifetimes_model.conditional_expected_number_of_purchases_up_to_time(30, frequency, recency, T)\n",
    "      results['purch_45day'] = self.lifetimes_model.conditional_expected_number_of_purchases_up_to_time(45, frequency, recency, T)\n",
    "      \n",
    "      return results[['alive', 'purch_15day', 'purch_30day', 'purch_45day']]"
   ]
  },
  {
   "cell_type": "markdown",
   "metadata": {
    "application/vnd.databricks.v1+cell": {
     "inputWidgets": {},
     "nuid": "54d11e13-d741-4da3-bb08-0674e87a454b",
     "showTitle": false,
     "title": ""
    }
   },
   "source": [
    "次に、モデルを mlflow に登録する必要があります。登録の際には、モデルの機能に期待されるAPIをマッピングするラッパーを通知します。また、モデルを動作させるために、どのライブラリをインストールしてロードする必要があるかを指示するために、実行環境の情報を提供します。\n",
    "\n",
    "\n",
    "通常、モデルのトレーニングとロギングは1つのステップとして行われますが、このノートブックでは、カスタムモデルのデプロイメントに焦点を当てるために、2つのアクションを分離しました。より一般的なmlflowの実装パターンについては、[こちら](https://docs.databricks.com/applications/mlflow/model-example.html)やオンラインで公開されている他の例を参照してください。"
   ]
  },
  {
   "cell_type": "code",
   "execution_count": 0,
   "metadata": {
    "application/vnd.databricks.v1+cell": {
     "inputWidgets": {},
     "nuid": "29a7fa5c-3e92-447f-9050-26d8b617a9ce",
     "showTitle": false,
     "title": ""
    }
   },
   "outputs": [],
   "source": [
    "# add lifetimes to conda environment info\n",
    "conda_env = mlflow.pyfunc.get_default_conda_env()\n",
    "conda_env['dependencies'][-1]['pip'] += ['lifetimes==0.10.1'] # version should match version installed at top of this notebook\n",
    "\n",
    "# save model run to mlflow\n",
    "with mlflow.start_run(run_name='deployment run') as run:\n",
    "  mlflow.pyfunc.log_model(\n",
    "    'model', \n",
    "    python_model=_lifetimesModelWrapper(model), \n",
    "    conda_env=conda_env\n",
    "    )"
   ]
  },
  {
   "cell_type": "markdown",
   "metadata": {
    "application/vnd.databricks.v1+cell": {
     "inputWidgets": {},
     "nuid": "de3a22f2-3d36-4a2c-8b6b-47d91a0a7449",
     "showTitle": false,
     "title": ""
    }
   },
   "source": [
    "モデルに依存関係の情報とクラスのラッパーが記録されたので、mlflowを使ってモデルをSpark DataFrameに対して使用できる関数に変換してみましょう。"
   ]
  },
  {
   "cell_type": "code",
   "execution_count": 0,
   "metadata": {
    "application/vnd.databricks.v1+cell": {
     "inputWidgets": {},
     "nuid": "42b4a21d-18d4-4d5c-abea-5b09d3340db2",
     "showTitle": false,
     "title": ""
    }
   },
   "outputs": [],
   "source": [
    "from pyspark.sql.types import ArrayType, FloatType\n",
    "\n",
    "# define the schema of the values returned by the function\n",
    "result_schema = ArrayType(FloatType())\n",
    "\n",
    "# define function based on mlflow recorded model\n",
    "probability_alive_udf = mlflow.pyfunc.spark_udf(\n",
    "  spark, \n",
    "  'runs:/{0}/model'.format(run.info.run_id), \n",
    "  result_type=result_schema\n",
    "  )\n",
    "\n",
    "# register the function for use in SQL\n",
    "_ = spark.udf.register('probability_alive', probability_alive_udf)"
   ]
  },
  {
   "cell_type": "markdown",
   "metadata": {
    "application/vnd.databricks.v1+cell": {
     "inputWidgets": {},
     "nuid": "8597cc23-49bb-420c-8c36-f5ad8d2fb11e",
     "showTitle": false,
     "title": ""
    }
   },
   "source": [
    "顧客のFrequency, recencyおよびageを与えれば、上記で定義したUDFで推定(スコアリング)が可能になります。"
   ]
  },
  {
   "cell_type": "code",
   "execution_count": 0,
   "metadata": {
    "application/vnd.databricks.v1+cell": {
     "inputWidgets": {},
     "nuid": "832db3de-9e42-4f9e-bbb2-9c2132513bab",
     "showTitle": false,
     "title": ""
    }
   },
   "outputs": [],
   "source": [
    "# create a temp view for SQL demonstration (next cell)\n",
    "filtered.createOrReplaceTempView('customer_metrics')\n",
    "\n",
    "# demonstrate function call on Spark DataFrame\n",
    "display(\n",
    "  filtered\n",
    "    .withColumn(\n",
    "      'predictions', \n",
    "      probability_alive_udf(filtered.frequency, filtered.recency, filtered.T)\n",
    "      )\n",
    "    .selectExpr(\n",
    "      'customerid', \n",
    "      'predictions[0] as prob_alive', \n",
    "      'predictions[1] as purch_15day', \n",
    "      'predictions[2] as purch_30day', \n",
    "      'predictions[3] as purch_45day'\n",
    "      )\n",
    "  )"
   ]
  },
  {
   "cell_type": "code",
   "execution_count": 0,
   "metadata": {
    "application/vnd.databricks.v1+cell": {
     "inputWidgets": {},
     "nuid": "a5245222-8be3-4a47-a1c2-26e04076435b",
     "showTitle": false,
     "title": ""
    }
   },
   "outputs": [],
   "source": [
    "%sql -- predict probabiliies customer is alive and will return in 15, 30 & 45 days\n",
    "\n",
    "SELECT\n",
    "  x.CustomerID,\n",
    "  x.prediction[0] as prob_alive,\n",
    "  x.prediction[1] as purch_15day,\n",
    "  x.prediction[2] as purch_30day,\n",
    "  x.prediction[3] as purch_45day\n",
    "FROM (\n",
    "  SELECT\n",
    "    CustomerID,\n",
    "    probability_alive(frequency, recency, T) as prediction\n",
    "  FROM customer_metrics\n",
    "  ) x;"
   ]
  },
  {
   "cell_type": "markdown",
   "metadata": {
    "application/vnd.databricks.v1+cell": {
     "inputWidgets": {},
     "nuid": "277de1c8-83a5-46c8-b75c-d61246b250b5",
     "showTitle": false,
     "title": ""
    }
   },
   "source": [
    "ライフタイムモデルが関数として登録されたことで、ETLバッチ、ストリーミング、インタラクティブクエリのワークロードに顧客の生涯確率を組み込むことができるようになりました。また、mlflowのモデル展開機能を利用して、[AzureML](https://docs.azuredatabricks.net/_static/notebooks/mlflow/mlflow-quick-start-deployment-azure.html)や[AWS Sagemaker](https://docs.databricks.com/_static/notebooks/mlflow/mlflow-quick-start-deployment-aws.html)を利用したスタンドアロンのWebサービスとしても展開することができます。"
   ]
  }
 ],
 "metadata": {
  "application/vnd.databricks.v1+notebook": {
   "dashboards": [],
   "language": "python",
   "notebookMetadata": {
    "pythonIndentUnit": 2
   },
   "notebookName": "CLV Part 1: 顧客生涯",
   "notebookOrigID": 3899882644115158,
   "widgets": {}
  }
 },
 "nbformat": 4,
 "nbformat_minor": 0
}